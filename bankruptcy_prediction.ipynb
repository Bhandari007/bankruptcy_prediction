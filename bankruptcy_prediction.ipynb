{
  "nbformat": 4,
  "nbformat_minor": 0,
  "metadata": {
    "colab": {
      "provenance": [],
      "collapsed_sections": [],
      "authorship_tag": "ABX9TyMTGRf7SU2IiLjLCPVIDxu8",
      "include_colab_link": true
    },
    "kernelspec": {
      "name": "python3",
      "display_name": "Python 3"
    },
    "language_info": {
      "name": "python"
    }
  },
  "cells": [
    {
      "cell_type": "markdown",
      "metadata": {
        "id": "view-in-github",
        "colab_type": "text"
      },
      "source": [
        "<a href=\"https://colab.research.google.com/github/Bhandari007/bankruptcy_prediction/blob/main/bankruptcy_prediction.ipynb\" target=\"_parent\"><img src=\"https://colab.research.google.com/assets/colab-badge.svg\" alt=\"Open In Colab\"/></a>"
      ]
    },
    {
      "cell_type": "markdown",
      "source": [
        "# Bankruptcy Prediction\n",
        "\n",
        "This notebook, contains the machine learning application to predict whether a company will go bankrupt. The data is available in [UCI Machine Learning Repository](https://archive.ics.uci.edu/ml/datasets/Polish+companies+bankruptcy+data).\n",
        "The data was collected from Emerging Markets Information Service (EMIS, [Web Link]), which is a database containing information on emerging markets around the world. The bankrupt companies were analyzed in the period 2000-2012, while the still operating companies were evaluated from 2007 to 2013.\n",
        "\n",
        "This notebook deals with the 5<sup>th</sup> year of  forecasting period.\n",
        "\n",
        "### This notebook will be divided into the following sections:\n",
        "\n",
        "* Getting the Data\n",
        "* Data Cleaning\n",
        "* Data Exploration\n"
      ],
      "metadata": {
        "id": "u8GD3UZ4rHPC"
      }
    },
    {
      "cell_type": "markdown",
      "source": [
        "# Data Dictionary\n",
        "Attribute Information:\n",
        "\n",
        "* 0 => Not Bankrupt\n",
        "* 1 => Bankrupt\n",
        "\n",
        "* X1 net profit / total assets\n",
        "* X2 total liabilities / total assets\n",
        "* X3 working capital / total assets\n",
        "* X4 current assets / short-term liabilities\n",
        "* X5 [(cash + short-term securities + receivables - short-term liabilities) / (operating expenses - depreciation)] * 365\n",
        "* X6 retained earnings / total assets\n",
        "* X7 EBIT / total assets\n",
        "* X8 book value of equity / total liabilities\n",
        "* X9 sales / total assets\n",
        "* X10 equity / total assets\n",
        "* X11 (gross profit + extraordinary items + financial expenses) / total assets\n",
        "* X12 gross profit / short-term liabilities\n",
        "* X13 (gross profit + depreciation) / sales\n",
        "* X14 (gross profit + interest) / total assets\n",
        "* X15 (total liabilities * 365) / (gross profit + depreciation)\n",
        "* X16 (gross profit + depreciation) / total liabilities\n",
        "* X17 total assets / total liabilities\n",
        "* X18 gross profit / total assets\n",
        "* X19 gross profit / sales\n",
        "* X20 (inventory * 365) / sales\n",
        "* X21 sales (n) / sales (n-1)\n",
        "* X22 profit on operating activities / total assets\n",
        "* X23 net profit / sales\n",
        "* X24 gross profit (in 3 years) / total assets\n",
        "* X25 (equity - share capital) / total assets\n",
        "* X26 (net profit + depreciation) / total liabilities\n",
        "* X27 profit on operating activities / financial expenses\n",
        "* X28 working capital / fixed assets\n",
        "* X29 logarithm of total assets\n",
        "* X30 (total liabilities - cash) / sales\n",
        "* X31 (gross profit + interest) / sales\n",
        "* X32 (current liabilities * 365) / cost of products sold\n",
        "* X33 operating expenses / short-term liabilities\n",
        "* X34 operating expenses / total liabilities\n",
        "* X35 profit on sales / total assets\n",
        "* X36 total sales / total assets\n",
        "* X37 (current assets - inventories) / long-term liabilities\n",
        "* X38 constant capital / total assets\n",
        "* X39 profit on sales / sales\n",
        "* X40 (current assets - inventory - receivables) / short-term liabilities\n",
        "* X41 total liabilities / ((profit on operating activities + depreciation) * (12/365))\n",
        "* X42 profit on operating activities / sales\n",
        "* X43 rotation receivables + inventory turnover in days\n",
        "* X44 (receivables * 365) / sales\n",
        "* X45 net profit / inventory\n",
        "* X46 (current assets - inventory) / short-term liabilities\n",
        "* X47 (inventory * 365) / cost of products sold\n",
        "* X48 EBITDA (profit on operating activities - depreciation) / total assets\n",
        "* X49 EBITDA (profit on operating activities - depreciation) / sales\n",
        "* X50 current assets / total liabilities\n",
        "* X51 short-term liabilities / total assets\n",
        "* X52 (short-term liabilities * 365) / cost of products sold)\n",
        "* X53 equity / fixed assets\n",
        "* X54 constant capital / fixed assets\n",
        "* X55 working capital\n",
        "* X56 (sales - cost of products sold) / sales\n",
        "* X57 (current assets - inventory - short-term liabilities) / (sales - gross profit - depreciation)\n",
        "* X58 total costs /total sales\n",
        "* X59 long-term liabilities / equity\n",
        "* X60 sales / inventory\n",
        "* X61 sales / receivables\n",
        "* X62 (short-term liabilities *365) / sales\n",
        "* X63 sales / short-term liabilities\n",
        "* X64 sales / fixed assets"
      ],
      "metadata": {
        "id": "ddDRmzw7pvSs"
      }
    },
    {
      "cell_type": "markdown",
      "source": [
        "# Getting the Data"
      ],
      "metadata": {
        "id": "qB7FjfKqsgY8"
      }
    },
    {
      "cell_type": "markdown",
      "source": [
        "## Download data"
      ],
      "metadata": {
        "id": "6T0WvxCDskR2"
      }
    },
    {
      "cell_type": "code",
      "execution_count": 1,
      "metadata": {
        "colab": {
          "base_uri": "https://localhost:8080/"
        },
        "id": "9iOmIGkIo6rF",
        "outputId": "153829ab-e8c6-4747-dad3-5dabed8f0fcd"
      },
      "outputs": [
        {
          "output_type": "stream",
          "name": "stdout",
          "text": [
            "--2022-11-13 05:40:24--  https://github.com/Bhandari007/bankruptcy_prediction/blob/main/data.zip?raw=true\n",
            "Resolving github.com (github.com)... 140.82.113.3\n",
            "Connecting to github.com (github.com)|140.82.113.3|:443... connected.\n",
            "HTTP request sent, awaiting response... 302 Found\n",
            "Location: https://github.com/Bhandari007/bankruptcy_prediction/raw/main/data.zip [following]\n",
            "--2022-11-13 05:40:24--  https://github.com/Bhandari007/bankruptcy_prediction/raw/main/data.zip\n",
            "Reusing existing connection to github.com:443.\n",
            "HTTP request sent, awaiting response... 302 Found\n",
            "Location: https://raw.githubusercontent.com/Bhandari007/bankruptcy_prediction/main/data.zip [following]\n",
            "--2022-11-13 05:40:24--  https://raw.githubusercontent.com/Bhandari007/bankruptcy_prediction/main/data.zip\n",
            "Resolving raw.githubusercontent.com (raw.githubusercontent.com)... 185.199.108.133, 185.199.109.133, 185.199.110.133, ...\n",
            "Connecting to raw.githubusercontent.com (raw.githubusercontent.com)|185.199.108.133|:443... connected.\n",
            "HTTP request sent, awaiting response... 200 OK\n",
            "Length: 8834471 (8.4M) [application/zip]\n",
            "Saving to: ‘data.zip?raw=true’\n",
            "\n",
            "data.zip?raw=true   100%[===================>]   8.42M  --.-KB/s    in 0.09s   \n",
            "\n",
            "2022-11-13 05:40:24 (96.1 MB/s) - ‘data.zip?raw=true’ saved [8834471/8834471]\n",
            "\n"
          ]
        }
      ],
      "source": [
        "!wget https://github.com/Bhandari007/bankruptcy_prediction/blob/main/data.zip?raw=true"
      ]
    },
    {
      "cell_type": "markdown",
      "source": [
        "## Extracting the ZipFile"
      ],
      "metadata": {
        "id": "VOrBA0dwsuRI"
      }
    },
    {
      "cell_type": "code",
      "source": [
        "import zipfile\n",
        "zip_ref = zipfile.ZipFile(\"data.zip?raw=true\")\n",
        "zip_ref.extractall()"
      ],
      "metadata": {
        "id": "IvViIvWupEJu"
      },
      "execution_count": 2,
      "outputs": []
    },
    {
      "cell_type": "markdown",
      "source": [
        "## Converting `arff` to `csv` file"
      ],
      "metadata": {
        "id": "BxmC5bn9sxTE"
      }
    },
    {
      "cell_type": "code",
      "source": [
        "from scipy.io.arff import loadarff\n",
        "import pandas as pd\n",
        "data = loadarff('5year.arff')\n",
        "df = pd.DataFrame(data[0])\n",
        "df.head()"
      ],
      "metadata": {
        "colab": {
          "base_uri": "https://localhost:8080/",
          "height": 279
        },
        "id": "wZEgdug6pQHQ",
        "outputId": "8972a6c3-fb3e-4a76-96b4-5fbd4005e781"
      },
      "execution_count": 9,
      "outputs": [
        {
          "output_type": "execute_result",
          "data": {
            "text/plain": [
              "      Attr1    Attr2    Attr3   Attr4     Attr5     Attr6     Attr7    Attr8  \\\n",
              "0  0.088238  0.55472  0.01134  1.0205  -66.5200  0.342040  0.109490  0.57752   \n",
              "1 -0.006202  0.48465  0.23298  1.5998    6.1825  0.000000 -0.006202  1.06340   \n",
              "2  0.130240  0.22142  0.57751  3.6082  120.0400  0.187640  0.162120  3.05900   \n",
              "3 -0.089951  0.88700  0.26927  1.5222  -55.9920 -0.073957 -0.089951  0.12740   \n",
              "4  0.048179  0.55041  0.10765  1.2437  -22.9590  0.000000  0.059280  0.81682   \n",
              "\n",
              "    Attr9   Attr10  ...    Attr56    Attr57   Attr58    Attr59   Attr60  \\\n",
              "0  1.0881  0.32036  ...  0.080955  0.275430  0.91905  0.002024   7.2711   \n",
              "1  1.2757  0.51535  ... -0.028591 -0.012035  1.00470  0.152220   6.0911   \n",
              "2  1.1415  0.67731  ...  0.123960  0.192290  0.87604  0.000000   8.7934   \n",
              "3  1.2754  0.11300  ...  0.418840 -0.796020  0.59074  2.878700   7.6524   \n",
              "4  1.5150  0.44959  ...  0.240400  0.107160  0.77048  0.139380  10.1180   \n",
              "\n",
              "   Attr61   Attr62  Attr63  Attr64  class  \n",
              "0  4.7343  142.760  2.5568  3.2597   b'0'  \n",
              "1  3.2749  111.140  3.2841  3.3700   b'0'  \n",
              "2  2.9870   71.531  5.1027  5.6188   b'0'  \n",
              "3  3.3302  147.560  2.4735  5.9299   b'0'  \n",
              "4  4.0950  106.430  3.4294  3.3622   b'0'  \n",
              "\n",
              "[5 rows x 65 columns]"
            ],
            "text/html": [
              "\n",
              "  <div id=\"df-0547f977-10da-4b22-89b2-13ab6c21e54e\">\n",
              "    <div class=\"colab-df-container\">\n",
              "      <div>\n",
              "<style scoped>\n",
              "    .dataframe tbody tr th:only-of-type {\n",
              "        vertical-align: middle;\n",
              "    }\n",
              "\n",
              "    .dataframe tbody tr th {\n",
              "        vertical-align: top;\n",
              "    }\n",
              "\n",
              "    .dataframe thead th {\n",
              "        text-align: right;\n",
              "    }\n",
              "</style>\n",
              "<table border=\"1\" class=\"dataframe\">\n",
              "  <thead>\n",
              "    <tr style=\"text-align: right;\">\n",
              "      <th></th>\n",
              "      <th>Attr1</th>\n",
              "      <th>Attr2</th>\n",
              "      <th>Attr3</th>\n",
              "      <th>Attr4</th>\n",
              "      <th>Attr5</th>\n",
              "      <th>Attr6</th>\n",
              "      <th>Attr7</th>\n",
              "      <th>Attr8</th>\n",
              "      <th>Attr9</th>\n",
              "      <th>Attr10</th>\n",
              "      <th>...</th>\n",
              "      <th>Attr56</th>\n",
              "      <th>Attr57</th>\n",
              "      <th>Attr58</th>\n",
              "      <th>Attr59</th>\n",
              "      <th>Attr60</th>\n",
              "      <th>Attr61</th>\n",
              "      <th>Attr62</th>\n",
              "      <th>Attr63</th>\n",
              "      <th>Attr64</th>\n",
              "      <th>class</th>\n",
              "    </tr>\n",
              "  </thead>\n",
              "  <tbody>\n",
              "    <tr>\n",
              "      <th>0</th>\n",
              "      <td>0.088238</td>\n",
              "      <td>0.55472</td>\n",
              "      <td>0.01134</td>\n",
              "      <td>1.0205</td>\n",
              "      <td>-66.5200</td>\n",
              "      <td>0.342040</td>\n",
              "      <td>0.109490</td>\n",
              "      <td>0.57752</td>\n",
              "      <td>1.0881</td>\n",
              "      <td>0.32036</td>\n",
              "      <td>...</td>\n",
              "      <td>0.080955</td>\n",
              "      <td>0.275430</td>\n",
              "      <td>0.91905</td>\n",
              "      <td>0.002024</td>\n",
              "      <td>7.2711</td>\n",
              "      <td>4.7343</td>\n",
              "      <td>142.760</td>\n",
              "      <td>2.5568</td>\n",
              "      <td>3.2597</td>\n",
              "      <td>b'0'</td>\n",
              "    </tr>\n",
              "    <tr>\n",
              "      <th>1</th>\n",
              "      <td>-0.006202</td>\n",
              "      <td>0.48465</td>\n",
              "      <td>0.23298</td>\n",
              "      <td>1.5998</td>\n",
              "      <td>6.1825</td>\n",
              "      <td>0.000000</td>\n",
              "      <td>-0.006202</td>\n",
              "      <td>1.06340</td>\n",
              "      <td>1.2757</td>\n",
              "      <td>0.51535</td>\n",
              "      <td>...</td>\n",
              "      <td>-0.028591</td>\n",
              "      <td>-0.012035</td>\n",
              "      <td>1.00470</td>\n",
              "      <td>0.152220</td>\n",
              "      <td>6.0911</td>\n",
              "      <td>3.2749</td>\n",
              "      <td>111.140</td>\n",
              "      <td>3.2841</td>\n",
              "      <td>3.3700</td>\n",
              "      <td>b'0'</td>\n",
              "    </tr>\n",
              "    <tr>\n",
              "      <th>2</th>\n",
              "      <td>0.130240</td>\n",
              "      <td>0.22142</td>\n",
              "      <td>0.57751</td>\n",
              "      <td>3.6082</td>\n",
              "      <td>120.0400</td>\n",
              "      <td>0.187640</td>\n",
              "      <td>0.162120</td>\n",
              "      <td>3.05900</td>\n",
              "      <td>1.1415</td>\n",
              "      <td>0.67731</td>\n",
              "      <td>...</td>\n",
              "      <td>0.123960</td>\n",
              "      <td>0.192290</td>\n",
              "      <td>0.87604</td>\n",
              "      <td>0.000000</td>\n",
              "      <td>8.7934</td>\n",
              "      <td>2.9870</td>\n",
              "      <td>71.531</td>\n",
              "      <td>5.1027</td>\n",
              "      <td>5.6188</td>\n",
              "      <td>b'0'</td>\n",
              "    </tr>\n",
              "    <tr>\n",
              "      <th>3</th>\n",
              "      <td>-0.089951</td>\n",
              "      <td>0.88700</td>\n",
              "      <td>0.26927</td>\n",
              "      <td>1.5222</td>\n",
              "      <td>-55.9920</td>\n",
              "      <td>-0.073957</td>\n",
              "      <td>-0.089951</td>\n",
              "      <td>0.12740</td>\n",
              "      <td>1.2754</td>\n",
              "      <td>0.11300</td>\n",
              "      <td>...</td>\n",
              "      <td>0.418840</td>\n",
              "      <td>-0.796020</td>\n",
              "      <td>0.59074</td>\n",
              "      <td>2.878700</td>\n",
              "      <td>7.6524</td>\n",
              "      <td>3.3302</td>\n",
              "      <td>147.560</td>\n",
              "      <td>2.4735</td>\n",
              "      <td>5.9299</td>\n",
              "      <td>b'0'</td>\n",
              "    </tr>\n",
              "    <tr>\n",
              "      <th>4</th>\n",
              "      <td>0.048179</td>\n",
              "      <td>0.55041</td>\n",
              "      <td>0.10765</td>\n",
              "      <td>1.2437</td>\n",
              "      <td>-22.9590</td>\n",
              "      <td>0.000000</td>\n",
              "      <td>0.059280</td>\n",
              "      <td>0.81682</td>\n",
              "      <td>1.5150</td>\n",
              "      <td>0.44959</td>\n",
              "      <td>...</td>\n",
              "      <td>0.240400</td>\n",
              "      <td>0.107160</td>\n",
              "      <td>0.77048</td>\n",
              "      <td>0.139380</td>\n",
              "      <td>10.1180</td>\n",
              "      <td>4.0950</td>\n",
              "      <td>106.430</td>\n",
              "      <td>3.4294</td>\n",
              "      <td>3.3622</td>\n",
              "      <td>b'0'</td>\n",
              "    </tr>\n",
              "  </tbody>\n",
              "</table>\n",
              "<p>5 rows × 65 columns</p>\n",
              "</div>\n",
              "      <button class=\"colab-df-convert\" onclick=\"convertToInteractive('df-0547f977-10da-4b22-89b2-13ab6c21e54e')\"\n",
              "              title=\"Convert this dataframe to an interactive table.\"\n",
              "              style=\"display:none;\">\n",
              "        \n",
              "  <svg xmlns=\"http://www.w3.org/2000/svg\" height=\"24px\"viewBox=\"0 0 24 24\"\n",
              "       width=\"24px\">\n",
              "    <path d=\"M0 0h24v24H0V0z\" fill=\"none\"/>\n",
              "    <path d=\"M18.56 5.44l.94 2.06.94-2.06 2.06-.94-2.06-.94-.94-2.06-.94 2.06-2.06.94zm-11 1L8.5 8.5l.94-2.06 2.06-.94-2.06-.94L8.5 2.5l-.94 2.06-2.06.94zm10 10l.94 2.06.94-2.06 2.06-.94-2.06-.94-.94-2.06-.94 2.06-2.06.94z\"/><path d=\"M17.41 7.96l-1.37-1.37c-.4-.4-.92-.59-1.43-.59-.52 0-1.04.2-1.43.59L10.3 9.45l-7.72 7.72c-.78.78-.78 2.05 0 2.83L4 21.41c.39.39.9.59 1.41.59.51 0 1.02-.2 1.41-.59l7.78-7.78 2.81-2.81c.8-.78.8-2.07 0-2.86zM5.41 20L4 18.59l7.72-7.72 1.47 1.35L5.41 20z\"/>\n",
              "  </svg>\n",
              "      </button>\n",
              "      \n",
              "  <style>\n",
              "    .colab-df-container {\n",
              "      display:flex;\n",
              "      flex-wrap:wrap;\n",
              "      gap: 12px;\n",
              "    }\n",
              "\n",
              "    .colab-df-convert {\n",
              "      background-color: #E8F0FE;\n",
              "      border: none;\n",
              "      border-radius: 50%;\n",
              "      cursor: pointer;\n",
              "      display: none;\n",
              "      fill: #1967D2;\n",
              "      height: 32px;\n",
              "      padding: 0 0 0 0;\n",
              "      width: 32px;\n",
              "    }\n",
              "\n",
              "    .colab-df-convert:hover {\n",
              "      background-color: #E2EBFA;\n",
              "      box-shadow: 0px 1px 2px rgba(60, 64, 67, 0.3), 0px 1px 3px 1px rgba(60, 64, 67, 0.15);\n",
              "      fill: #174EA6;\n",
              "    }\n",
              "\n",
              "    [theme=dark] .colab-df-convert {\n",
              "      background-color: #3B4455;\n",
              "      fill: #D2E3FC;\n",
              "    }\n",
              "\n",
              "    [theme=dark] .colab-df-convert:hover {\n",
              "      background-color: #434B5C;\n",
              "      box-shadow: 0px 1px 3px 1px rgba(0, 0, 0, 0.15);\n",
              "      filter: drop-shadow(0px 1px 2px rgba(0, 0, 0, 0.3));\n",
              "      fill: #FFFFFF;\n",
              "    }\n",
              "  </style>\n",
              "\n",
              "      <script>\n",
              "        const buttonEl =\n",
              "          document.querySelector('#df-0547f977-10da-4b22-89b2-13ab6c21e54e button.colab-df-convert');\n",
              "        buttonEl.style.display =\n",
              "          google.colab.kernel.accessAllowed ? 'block' : 'none';\n",
              "\n",
              "        async function convertToInteractive(key) {\n",
              "          const element = document.querySelector('#df-0547f977-10da-4b22-89b2-13ab6c21e54e');\n",
              "          const dataTable =\n",
              "            await google.colab.kernel.invokeFunction('convertToInteractive',\n",
              "                                                     [key], {});\n",
              "          if (!dataTable) return;\n",
              "\n",
              "          const docLinkHtml = 'Like what you see? Visit the ' +\n",
              "            '<a target=\"_blank\" href=https://colab.research.google.com/notebooks/data_table.ipynb>data table notebook</a>'\n",
              "            + ' to learn more about interactive tables.';\n",
              "          element.innerHTML = '';\n",
              "          dataTable['output_type'] = 'display_data';\n",
              "          await google.colab.output.renderOutput(dataTable, element);\n",
              "          const docLink = document.createElement('div');\n",
              "          docLink.innerHTML = docLinkHtml;\n",
              "          element.appendChild(docLink);\n",
              "        }\n",
              "      </script>\n",
              "    </div>\n",
              "  </div>\n",
              "  "
            ]
          },
          "metadata": {},
          "execution_count": 9
        }
      ]
    },
    {
      "cell_type": "markdown",
      "source": [
        "# Data Cleaning"
      ],
      "metadata": {
        "id": "dB2VEwczqudn"
      }
    },
    {
      "cell_type": "markdown",
      "source": [
        "## Decoding Labels"
      ],
      "metadata": {
        "id": "NKgwvR3Vqyky"
      }
    },
    {
      "cell_type": "code",
      "source": [
        "df[\"class\"].value_counts()"
      ],
      "metadata": {
        "colab": {
          "base_uri": "https://localhost:8080/"
        },
        "id": "0N5JTk1P-4yP",
        "outputId": "5a43b1f6-3f6f-402e-e332-9b15d44c90b8"
      },
      "execution_count": 10,
      "outputs": [
        {
          "output_type": "execute_result",
          "data": {
            "text/plain": [
              "b'0'    5500\n",
              "b'1'     410\n",
              "Name: class, dtype: int64"
            ]
          },
          "metadata": {},
          "execution_count": 10
        }
      ]
    },
    {
      "cell_type": "code",
      "source": [
        "target = df[\"class\"].str.decode('utf-8').astype(\"int\")\n",
        "df[\"target\"] = target\n",
        "df = df.drop(columns = [\"class\"], axis = 1 )\n",
        "df.head()"
      ],
      "metadata": {
        "colab": {
          "base_uri": "https://localhost:8080/",
          "height": 279
        },
        "id": "ISUWi13Z_Nv-",
        "outputId": "53292b64-31b2-4d87-c0b8-574690d93113"
      },
      "execution_count": 11,
      "outputs": [
        {
          "output_type": "execute_result",
          "data": {
            "text/plain": [
              "      Attr1    Attr2    Attr3   Attr4     Attr5     Attr6     Attr7    Attr8  \\\n",
              "0  0.088238  0.55472  0.01134  1.0205  -66.5200  0.342040  0.109490  0.57752   \n",
              "1 -0.006202  0.48465  0.23298  1.5998    6.1825  0.000000 -0.006202  1.06340   \n",
              "2  0.130240  0.22142  0.57751  3.6082  120.0400  0.187640  0.162120  3.05900   \n",
              "3 -0.089951  0.88700  0.26927  1.5222  -55.9920 -0.073957 -0.089951  0.12740   \n",
              "4  0.048179  0.55041  0.10765  1.2437  -22.9590  0.000000  0.059280  0.81682   \n",
              "\n",
              "    Attr9   Attr10  ...    Attr56    Attr57   Attr58    Attr59   Attr60  \\\n",
              "0  1.0881  0.32036  ...  0.080955  0.275430  0.91905  0.002024   7.2711   \n",
              "1  1.2757  0.51535  ... -0.028591 -0.012035  1.00470  0.152220   6.0911   \n",
              "2  1.1415  0.67731  ...  0.123960  0.192290  0.87604  0.000000   8.7934   \n",
              "3  1.2754  0.11300  ...  0.418840 -0.796020  0.59074  2.878700   7.6524   \n",
              "4  1.5150  0.44959  ...  0.240400  0.107160  0.77048  0.139380  10.1180   \n",
              "\n",
              "   Attr61   Attr62  Attr63  Attr64  target  \n",
              "0  4.7343  142.760  2.5568  3.2597       0  \n",
              "1  3.2749  111.140  3.2841  3.3700       0  \n",
              "2  2.9870   71.531  5.1027  5.6188       0  \n",
              "3  3.3302  147.560  2.4735  5.9299       0  \n",
              "4  4.0950  106.430  3.4294  3.3622       0  \n",
              "\n",
              "[5 rows x 65 columns]"
            ],
            "text/html": [
              "\n",
              "  <div id=\"df-29187a43-993d-42a5-9efd-2409ea0e15ac\">\n",
              "    <div class=\"colab-df-container\">\n",
              "      <div>\n",
              "<style scoped>\n",
              "    .dataframe tbody tr th:only-of-type {\n",
              "        vertical-align: middle;\n",
              "    }\n",
              "\n",
              "    .dataframe tbody tr th {\n",
              "        vertical-align: top;\n",
              "    }\n",
              "\n",
              "    .dataframe thead th {\n",
              "        text-align: right;\n",
              "    }\n",
              "</style>\n",
              "<table border=\"1\" class=\"dataframe\">\n",
              "  <thead>\n",
              "    <tr style=\"text-align: right;\">\n",
              "      <th></th>\n",
              "      <th>Attr1</th>\n",
              "      <th>Attr2</th>\n",
              "      <th>Attr3</th>\n",
              "      <th>Attr4</th>\n",
              "      <th>Attr5</th>\n",
              "      <th>Attr6</th>\n",
              "      <th>Attr7</th>\n",
              "      <th>Attr8</th>\n",
              "      <th>Attr9</th>\n",
              "      <th>Attr10</th>\n",
              "      <th>...</th>\n",
              "      <th>Attr56</th>\n",
              "      <th>Attr57</th>\n",
              "      <th>Attr58</th>\n",
              "      <th>Attr59</th>\n",
              "      <th>Attr60</th>\n",
              "      <th>Attr61</th>\n",
              "      <th>Attr62</th>\n",
              "      <th>Attr63</th>\n",
              "      <th>Attr64</th>\n",
              "      <th>target</th>\n",
              "    </tr>\n",
              "  </thead>\n",
              "  <tbody>\n",
              "    <tr>\n",
              "      <th>0</th>\n",
              "      <td>0.088238</td>\n",
              "      <td>0.55472</td>\n",
              "      <td>0.01134</td>\n",
              "      <td>1.0205</td>\n",
              "      <td>-66.5200</td>\n",
              "      <td>0.342040</td>\n",
              "      <td>0.109490</td>\n",
              "      <td>0.57752</td>\n",
              "      <td>1.0881</td>\n",
              "      <td>0.32036</td>\n",
              "      <td>...</td>\n",
              "      <td>0.080955</td>\n",
              "      <td>0.275430</td>\n",
              "      <td>0.91905</td>\n",
              "      <td>0.002024</td>\n",
              "      <td>7.2711</td>\n",
              "      <td>4.7343</td>\n",
              "      <td>142.760</td>\n",
              "      <td>2.5568</td>\n",
              "      <td>3.2597</td>\n",
              "      <td>0</td>\n",
              "    </tr>\n",
              "    <tr>\n",
              "      <th>1</th>\n",
              "      <td>-0.006202</td>\n",
              "      <td>0.48465</td>\n",
              "      <td>0.23298</td>\n",
              "      <td>1.5998</td>\n",
              "      <td>6.1825</td>\n",
              "      <td>0.000000</td>\n",
              "      <td>-0.006202</td>\n",
              "      <td>1.06340</td>\n",
              "      <td>1.2757</td>\n",
              "      <td>0.51535</td>\n",
              "      <td>...</td>\n",
              "      <td>-0.028591</td>\n",
              "      <td>-0.012035</td>\n",
              "      <td>1.00470</td>\n",
              "      <td>0.152220</td>\n",
              "      <td>6.0911</td>\n",
              "      <td>3.2749</td>\n",
              "      <td>111.140</td>\n",
              "      <td>3.2841</td>\n",
              "      <td>3.3700</td>\n",
              "      <td>0</td>\n",
              "    </tr>\n",
              "    <tr>\n",
              "      <th>2</th>\n",
              "      <td>0.130240</td>\n",
              "      <td>0.22142</td>\n",
              "      <td>0.57751</td>\n",
              "      <td>3.6082</td>\n",
              "      <td>120.0400</td>\n",
              "      <td>0.187640</td>\n",
              "      <td>0.162120</td>\n",
              "      <td>3.05900</td>\n",
              "      <td>1.1415</td>\n",
              "      <td>0.67731</td>\n",
              "      <td>...</td>\n",
              "      <td>0.123960</td>\n",
              "      <td>0.192290</td>\n",
              "      <td>0.87604</td>\n",
              "      <td>0.000000</td>\n",
              "      <td>8.7934</td>\n",
              "      <td>2.9870</td>\n",
              "      <td>71.531</td>\n",
              "      <td>5.1027</td>\n",
              "      <td>5.6188</td>\n",
              "      <td>0</td>\n",
              "    </tr>\n",
              "    <tr>\n",
              "      <th>3</th>\n",
              "      <td>-0.089951</td>\n",
              "      <td>0.88700</td>\n",
              "      <td>0.26927</td>\n",
              "      <td>1.5222</td>\n",
              "      <td>-55.9920</td>\n",
              "      <td>-0.073957</td>\n",
              "      <td>-0.089951</td>\n",
              "      <td>0.12740</td>\n",
              "      <td>1.2754</td>\n",
              "      <td>0.11300</td>\n",
              "      <td>...</td>\n",
              "      <td>0.418840</td>\n",
              "      <td>-0.796020</td>\n",
              "      <td>0.59074</td>\n",
              "      <td>2.878700</td>\n",
              "      <td>7.6524</td>\n",
              "      <td>3.3302</td>\n",
              "      <td>147.560</td>\n",
              "      <td>2.4735</td>\n",
              "      <td>5.9299</td>\n",
              "      <td>0</td>\n",
              "    </tr>\n",
              "    <tr>\n",
              "      <th>4</th>\n",
              "      <td>0.048179</td>\n",
              "      <td>0.55041</td>\n",
              "      <td>0.10765</td>\n",
              "      <td>1.2437</td>\n",
              "      <td>-22.9590</td>\n",
              "      <td>0.000000</td>\n",
              "      <td>0.059280</td>\n",
              "      <td>0.81682</td>\n",
              "      <td>1.5150</td>\n",
              "      <td>0.44959</td>\n",
              "      <td>...</td>\n",
              "      <td>0.240400</td>\n",
              "      <td>0.107160</td>\n",
              "      <td>0.77048</td>\n",
              "      <td>0.139380</td>\n",
              "      <td>10.1180</td>\n",
              "      <td>4.0950</td>\n",
              "      <td>106.430</td>\n",
              "      <td>3.4294</td>\n",
              "      <td>3.3622</td>\n",
              "      <td>0</td>\n",
              "    </tr>\n",
              "  </tbody>\n",
              "</table>\n",
              "<p>5 rows × 65 columns</p>\n",
              "</div>\n",
              "      <button class=\"colab-df-convert\" onclick=\"convertToInteractive('df-29187a43-993d-42a5-9efd-2409ea0e15ac')\"\n",
              "              title=\"Convert this dataframe to an interactive table.\"\n",
              "              style=\"display:none;\">\n",
              "        \n",
              "  <svg xmlns=\"http://www.w3.org/2000/svg\" height=\"24px\"viewBox=\"0 0 24 24\"\n",
              "       width=\"24px\">\n",
              "    <path d=\"M0 0h24v24H0V0z\" fill=\"none\"/>\n",
              "    <path d=\"M18.56 5.44l.94 2.06.94-2.06 2.06-.94-2.06-.94-.94-2.06-.94 2.06-2.06.94zm-11 1L8.5 8.5l.94-2.06 2.06-.94-2.06-.94L8.5 2.5l-.94 2.06-2.06.94zm10 10l.94 2.06.94-2.06 2.06-.94-2.06-.94-.94-2.06-.94 2.06-2.06.94z\"/><path d=\"M17.41 7.96l-1.37-1.37c-.4-.4-.92-.59-1.43-.59-.52 0-1.04.2-1.43.59L10.3 9.45l-7.72 7.72c-.78.78-.78 2.05 0 2.83L4 21.41c.39.39.9.59 1.41.59.51 0 1.02-.2 1.41-.59l7.78-7.78 2.81-2.81c.8-.78.8-2.07 0-2.86zM5.41 20L4 18.59l7.72-7.72 1.47 1.35L5.41 20z\"/>\n",
              "  </svg>\n",
              "      </button>\n",
              "      \n",
              "  <style>\n",
              "    .colab-df-container {\n",
              "      display:flex;\n",
              "      flex-wrap:wrap;\n",
              "      gap: 12px;\n",
              "    }\n",
              "\n",
              "    .colab-df-convert {\n",
              "      background-color: #E8F0FE;\n",
              "      border: none;\n",
              "      border-radius: 50%;\n",
              "      cursor: pointer;\n",
              "      display: none;\n",
              "      fill: #1967D2;\n",
              "      height: 32px;\n",
              "      padding: 0 0 0 0;\n",
              "      width: 32px;\n",
              "    }\n",
              "\n",
              "    .colab-df-convert:hover {\n",
              "      background-color: #E2EBFA;\n",
              "      box-shadow: 0px 1px 2px rgba(60, 64, 67, 0.3), 0px 1px 3px 1px rgba(60, 64, 67, 0.15);\n",
              "      fill: #174EA6;\n",
              "    }\n",
              "\n",
              "    [theme=dark] .colab-df-convert {\n",
              "      background-color: #3B4455;\n",
              "      fill: #D2E3FC;\n",
              "    }\n",
              "\n",
              "    [theme=dark] .colab-df-convert:hover {\n",
              "      background-color: #434B5C;\n",
              "      box-shadow: 0px 1px 3px 1px rgba(0, 0, 0, 0.15);\n",
              "      filter: drop-shadow(0px 1px 2px rgba(0, 0, 0, 0.3));\n",
              "      fill: #FFFFFF;\n",
              "    }\n",
              "  </style>\n",
              "\n",
              "      <script>\n",
              "        const buttonEl =\n",
              "          document.querySelector('#df-29187a43-993d-42a5-9efd-2409ea0e15ac button.colab-df-convert');\n",
              "        buttonEl.style.display =\n",
              "          google.colab.kernel.accessAllowed ? 'block' : 'none';\n",
              "\n",
              "        async function convertToInteractive(key) {\n",
              "          const element = document.querySelector('#df-29187a43-993d-42a5-9efd-2409ea0e15ac');\n",
              "          const dataTable =\n",
              "            await google.colab.kernel.invokeFunction('convertToInteractive',\n",
              "                                                     [key], {});\n",
              "          if (!dataTable) return;\n",
              "\n",
              "          const docLinkHtml = 'Like what you see? Visit the ' +\n",
              "            '<a target=\"_blank\" href=https://colab.research.google.com/notebooks/data_table.ipynb>data table notebook</a>'\n",
              "            + ' to learn more about interactive tables.';\n",
              "          element.innerHTML = '';\n",
              "          dataTable['output_type'] = 'display_data';\n",
              "          await google.colab.output.renderOutput(dataTable, element);\n",
              "          const docLink = document.createElement('div');\n",
              "          docLink.innerHTML = docLinkHtml;\n",
              "          element.appendChild(docLink);\n",
              "        }\n",
              "      </script>\n",
              "    </div>\n",
              "  </div>\n",
              "  "
            ]
          },
          "metadata": {},
          "execution_count": 11
        }
      ]
    },
    {
      "cell_type": "markdown",
      "source": [
        "# Exploratory Data Analysis"
      ],
      "metadata": {
        "id": "R15324CmCT1a"
      }
    },
    {
      "cell_type": "markdown",
      "source": [
        "### Packages"
      ],
      "metadata": {
        "id": "AT21CVqhCtsm"
      }
    },
    {
      "cell_type": "code",
      "source": [
        "import numpy as np\n",
        "import matplotlib.pyplot as plt\n",
        "import seaborn as sns"
      ],
      "metadata": {
        "id": "gpVJUrWgCvkL"
      },
      "execution_count": 12,
      "outputs": []
    },
    {
      "cell_type": "markdown",
      "source": [
        "### Overview of the data"
      ],
      "metadata": {
        "id": "Vh_Ij5JQqqMO"
      }
    },
    {
      "cell_type": "code",
      "source": [
        "df.info()"
      ],
      "metadata": {
        "colab": {
          "base_uri": "https://localhost:8080/"
        },
        "id": "2aprLy7MCheA",
        "outputId": "75b3ef67-8f54-4bba-e482-f45e6029bf8b"
      },
      "execution_count": 13,
      "outputs": [
        {
          "output_type": "stream",
          "name": "stdout",
          "text": [
            "<class 'pandas.core.frame.DataFrame'>\n",
            "RangeIndex: 5910 entries, 0 to 5909\n",
            "Data columns (total 65 columns):\n",
            " #   Column  Non-Null Count  Dtype  \n",
            "---  ------  --------------  -----  \n",
            " 0   Attr1   5907 non-null   float64\n",
            " 1   Attr2   5907 non-null   float64\n",
            " 2   Attr3   5907 non-null   float64\n",
            " 3   Attr4   5889 non-null   float64\n",
            " 4   Attr5   5899 non-null   float64\n",
            " 5   Attr6   5907 non-null   float64\n",
            " 6   Attr7   5907 non-null   float64\n",
            " 7   Attr8   5892 non-null   float64\n",
            " 8   Attr9   5909 non-null   float64\n",
            " 9   Attr10  5907 non-null   float64\n",
            " 10  Attr11  5907 non-null   float64\n",
            " 11  Attr12  5889 non-null   float64\n",
            " 12  Attr13  5910 non-null   float64\n",
            " 13  Attr14  5907 non-null   float64\n",
            " 14  Attr15  5904 non-null   float64\n",
            " 15  Attr16  5892 non-null   float64\n",
            " 16  Attr17  5892 non-null   float64\n",
            " 17  Attr18  5907 non-null   float64\n",
            " 18  Attr19  5910 non-null   float64\n",
            " 19  Attr20  5910 non-null   float64\n",
            " 20  Attr21  5807 non-null   float64\n",
            " 21  Attr22  5907 non-null   float64\n",
            " 22  Attr23  5910 non-null   float64\n",
            " 23  Attr24  5775 non-null   float64\n",
            " 24  Attr25  5907 non-null   float64\n",
            " 25  Attr26  5892 non-null   float64\n",
            " 26  Attr27  5519 non-null   float64\n",
            " 27  Attr28  5803 non-null   float64\n",
            " 28  Attr29  5907 non-null   float64\n",
            " 29  Attr30  5910 non-null   float64\n",
            " 30  Attr31  5910 non-null   float64\n",
            " 31  Attr32  5864 non-null   float64\n",
            " 32  Attr33  5889 non-null   float64\n",
            " 33  Attr34  5892 non-null   float64\n",
            " 34  Attr35  5907 non-null   float64\n",
            " 35  Attr36  5907 non-null   float64\n",
            " 36  Attr37  3362 non-null   float64\n",
            " 37  Attr38  5907 non-null   float64\n",
            " 38  Attr39  5910 non-null   float64\n",
            " 39  Attr40  5889 non-null   float64\n",
            " 40  Attr41  5826 non-null   float64\n",
            " 41  Attr42  5910 non-null   float64\n",
            " 42  Attr43  5910 non-null   float64\n",
            " 43  Attr44  5910 non-null   float64\n",
            " 44  Attr45  5642 non-null   float64\n",
            " 45  Attr46  5889 non-null   float64\n",
            " 46  Attr47  5875 non-null   float64\n",
            " 47  Attr48  5907 non-null   float64\n",
            " 48  Attr49  5910 non-null   float64\n",
            " 49  Attr50  5892 non-null   float64\n",
            " 50  Attr51  5907 non-null   float64\n",
            " 51  Attr52  5874 non-null   float64\n",
            " 52  Attr53  5803 non-null   float64\n",
            " 53  Attr54  5803 non-null   float64\n",
            " 54  Attr55  5910 non-null   float64\n",
            " 55  Attr56  5910 non-null   float64\n",
            " 56  Attr57  5907 non-null   float64\n",
            " 57  Attr58  5910 non-null   float64\n",
            " 58  Attr59  5907 non-null   float64\n",
            " 59  Attr60  5642 non-null   float64\n",
            " 60  Attr61  5895 non-null   float64\n",
            " 61  Attr62  5910 non-null   float64\n",
            " 62  Attr63  5889 non-null   float64\n",
            " 63  Attr64  5803 non-null   float64\n",
            " 64  target  5910 non-null   int64  \n",
            "dtypes: float64(64), int64(1)\n",
            "memory usage: 2.9 MB\n"
          ]
        }
      ]
    },
    {
      "cell_type": "code",
      "source": [
        "df.describe()"
      ],
      "metadata": {
        "colab": {
          "base_uri": "https://localhost:8080/",
          "height": 394
        },
        "id": "xU-IJXhpmEhF",
        "outputId": "12d46d1f-d82b-423c-ff5e-a07e2aee2765"
      },
      "execution_count": 43,
      "outputs": [
        {
          "output_type": "execute_result",
          "data": {
            "text/plain": [
              "             Attr1        Attr2        Attr3        Attr4         Attr5  \\\n",
              "count  5907.000000  5907.000000  5907.000000  5889.000000  5.899000e+03   \n",
              "mean     -0.022347     0.465086     0.189155     4.892476  1.940676e+01   \n",
              "std       6.163655     5.751283     1.177729    91.434574  2.152932e+04   \n",
              "min    -463.890000  -430.870000   -72.067000    -0.403110 -1.076400e+06   \n",
              "25%       0.003965     0.255355     0.043953     1.093700 -4.383650e+01   \n",
              "50%       0.046670     0.451750     0.219440     1.651700  4.914900e-01   \n",
              "75%       0.117050     0.661635     0.418430     2.931000  4.876500e+01   \n",
              "max      87.459000    72.416000    28.336000  6845.800000  1.250100e+06   \n",
              "\n",
              "             Attr6        Attr7        Attr8        Attr9       Attr10  ...  \\\n",
              "count  5907.000000  5907.000000  5892.000000  5909.000000  5907.000000  ...   \n",
              "mean      0.022584    -0.111951     5.737741     1.588322     0.545580  ...   \n",
              "std       9.992080     9.057135   102.355101     1.548390     5.763742  ...   \n",
              "min    -463.890000  -517.480000    -3.735100    -3.496000   -71.444000  ...   \n",
              "25%       0.000000     0.005889     0.481865     1.014800     0.318940  ...   \n",
              "50%       0.000000     0.056500     1.149300     1.139700     0.523320  ...   \n",
              "75%       0.108725     0.136905     2.771275     1.825900     0.720805  ...   \n",
              "max     543.250000     5.530000  6868.500000    65.607000   339.850000  ...   \n",
              "\n",
              "            Attr56       Attr57       Attr58       Attr59        Attr60  \\\n",
              "count  5910.000000  5907.000000  5910.000000  5907.000000  5.642000e+03   \n",
              "mean      0.057222    -0.263837     0.956504     0.279319  9.110338e+02   \n",
              "std       0.698096    18.425091     0.857326     5.840554  6.415469e+04   \n",
              "min     -46.788000 -1236.300000    -0.164390  -184.980000 -1.244000e+01   \n",
              "25%       0.010996     0.015655     0.876552     0.000000  5.248500e+00   \n",
              "50%       0.053218     0.109840     0.950370     0.005675  9.039500e+00   \n",
              "75%       0.125085     0.242910     0.990405     0.205215  1.731950e+01   \n",
              "max       1.651000    87.981000    47.788000   308.150000  4.818700e+06   \n",
              "\n",
              "            Attr61         Attr62       Attr63         Attr64       target  \n",
              "count  5895.000000    5910.000000  5889.000000    5803.000000  5910.000000  \n",
              "mean     10.941497     241.978184     9.127741      65.276716     0.069374  \n",
              "std      41.166591    6221.135690   103.074304    2150.645860     0.254110  \n",
              "min      -0.092493    -236.530000    -1.543200      -3.726500     0.000000  \n",
              "25%       4.278650      44.646750     3.066900       2.147500     0.000000  \n",
              "50%       6.198900      73.778500     4.930000       4.098300     0.000000  \n",
              "75%       9.350900     118.720000     8.115800       9.204200     0.000000  \n",
              "max    1308.500000  451380.000000  7641.300000  158180.000000     1.000000  \n",
              "\n",
              "[8 rows x 65 columns]"
            ],
            "text/html": [
              "\n",
              "  <div id=\"df-a7056ed5-ce75-4a2c-a853-ac9e865200d4\">\n",
              "    <div class=\"colab-df-container\">\n",
              "      <div>\n",
              "<style scoped>\n",
              "    .dataframe tbody tr th:only-of-type {\n",
              "        vertical-align: middle;\n",
              "    }\n",
              "\n",
              "    .dataframe tbody tr th {\n",
              "        vertical-align: top;\n",
              "    }\n",
              "\n",
              "    .dataframe thead th {\n",
              "        text-align: right;\n",
              "    }\n",
              "</style>\n",
              "<table border=\"1\" class=\"dataframe\">\n",
              "  <thead>\n",
              "    <tr style=\"text-align: right;\">\n",
              "      <th></th>\n",
              "      <th>Attr1</th>\n",
              "      <th>Attr2</th>\n",
              "      <th>Attr3</th>\n",
              "      <th>Attr4</th>\n",
              "      <th>Attr5</th>\n",
              "      <th>Attr6</th>\n",
              "      <th>Attr7</th>\n",
              "      <th>Attr8</th>\n",
              "      <th>Attr9</th>\n",
              "      <th>Attr10</th>\n",
              "      <th>...</th>\n",
              "      <th>Attr56</th>\n",
              "      <th>Attr57</th>\n",
              "      <th>Attr58</th>\n",
              "      <th>Attr59</th>\n",
              "      <th>Attr60</th>\n",
              "      <th>Attr61</th>\n",
              "      <th>Attr62</th>\n",
              "      <th>Attr63</th>\n",
              "      <th>Attr64</th>\n",
              "      <th>target</th>\n",
              "    </tr>\n",
              "  </thead>\n",
              "  <tbody>\n",
              "    <tr>\n",
              "      <th>count</th>\n",
              "      <td>5907.000000</td>\n",
              "      <td>5907.000000</td>\n",
              "      <td>5907.000000</td>\n",
              "      <td>5889.000000</td>\n",
              "      <td>5.899000e+03</td>\n",
              "      <td>5907.000000</td>\n",
              "      <td>5907.000000</td>\n",
              "      <td>5892.000000</td>\n",
              "      <td>5909.000000</td>\n",
              "      <td>5907.000000</td>\n",
              "      <td>...</td>\n",
              "      <td>5910.000000</td>\n",
              "      <td>5907.000000</td>\n",
              "      <td>5910.000000</td>\n",
              "      <td>5907.000000</td>\n",
              "      <td>5.642000e+03</td>\n",
              "      <td>5895.000000</td>\n",
              "      <td>5910.000000</td>\n",
              "      <td>5889.000000</td>\n",
              "      <td>5803.000000</td>\n",
              "      <td>5910.000000</td>\n",
              "    </tr>\n",
              "    <tr>\n",
              "      <th>mean</th>\n",
              "      <td>-0.022347</td>\n",
              "      <td>0.465086</td>\n",
              "      <td>0.189155</td>\n",
              "      <td>4.892476</td>\n",
              "      <td>1.940676e+01</td>\n",
              "      <td>0.022584</td>\n",
              "      <td>-0.111951</td>\n",
              "      <td>5.737741</td>\n",
              "      <td>1.588322</td>\n",
              "      <td>0.545580</td>\n",
              "      <td>...</td>\n",
              "      <td>0.057222</td>\n",
              "      <td>-0.263837</td>\n",
              "      <td>0.956504</td>\n",
              "      <td>0.279319</td>\n",
              "      <td>9.110338e+02</td>\n",
              "      <td>10.941497</td>\n",
              "      <td>241.978184</td>\n",
              "      <td>9.127741</td>\n",
              "      <td>65.276716</td>\n",
              "      <td>0.069374</td>\n",
              "    </tr>\n",
              "    <tr>\n",
              "      <th>std</th>\n",
              "      <td>6.163655</td>\n",
              "      <td>5.751283</td>\n",
              "      <td>1.177729</td>\n",
              "      <td>91.434574</td>\n",
              "      <td>2.152932e+04</td>\n",
              "      <td>9.992080</td>\n",
              "      <td>9.057135</td>\n",
              "      <td>102.355101</td>\n",
              "      <td>1.548390</td>\n",
              "      <td>5.763742</td>\n",
              "      <td>...</td>\n",
              "      <td>0.698096</td>\n",
              "      <td>18.425091</td>\n",
              "      <td>0.857326</td>\n",
              "      <td>5.840554</td>\n",
              "      <td>6.415469e+04</td>\n",
              "      <td>41.166591</td>\n",
              "      <td>6221.135690</td>\n",
              "      <td>103.074304</td>\n",
              "      <td>2150.645860</td>\n",
              "      <td>0.254110</td>\n",
              "    </tr>\n",
              "    <tr>\n",
              "      <th>min</th>\n",
              "      <td>-463.890000</td>\n",
              "      <td>-430.870000</td>\n",
              "      <td>-72.067000</td>\n",
              "      <td>-0.403110</td>\n",
              "      <td>-1.076400e+06</td>\n",
              "      <td>-463.890000</td>\n",
              "      <td>-517.480000</td>\n",
              "      <td>-3.735100</td>\n",
              "      <td>-3.496000</td>\n",
              "      <td>-71.444000</td>\n",
              "      <td>...</td>\n",
              "      <td>-46.788000</td>\n",
              "      <td>-1236.300000</td>\n",
              "      <td>-0.164390</td>\n",
              "      <td>-184.980000</td>\n",
              "      <td>-1.244000e+01</td>\n",
              "      <td>-0.092493</td>\n",
              "      <td>-236.530000</td>\n",
              "      <td>-1.543200</td>\n",
              "      <td>-3.726500</td>\n",
              "      <td>0.000000</td>\n",
              "    </tr>\n",
              "    <tr>\n",
              "      <th>25%</th>\n",
              "      <td>0.003965</td>\n",
              "      <td>0.255355</td>\n",
              "      <td>0.043953</td>\n",
              "      <td>1.093700</td>\n",
              "      <td>-4.383650e+01</td>\n",
              "      <td>0.000000</td>\n",
              "      <td>0.005889</td>\n",
              "      <td>0.481865</td>\n",
              "      <td>1.014800</td>\n",
              "      <td>0.318940</td>\n",
              "      <td>...</td>\n",
              "      <td>0.010996</td>\n",
              "      <td>0.015655</td>\n",
              "      <td>0.876552</td>\n",
              "      <td>0.000000</td>\n",
              "      <td>5.248500e+00</td>\n",
              "      <td>4.278650</td>\n",
              "      <td>44.646750</td>\n",
              "      <td>3.066900</td>\n",
              "      <td>2.147500</td>\n",
              "      <td>0.000000</td>\n",
              "    </tr>\n",
              "    <tr>\n",
              "      <th>50%</th>\n",
              "      <td>0.046670</td>\n",
              "      <td>0.451750</td>\n",
              "      <td>0.219440</td>\n",
              "      <td>1.651700</td>\n",
              "      <td>4.914900e-01</td>\n",
              "      <td>0.000000</td>\n",
              "      <td>0.056500</td>\n",
              "      <td>1.149300</td>\n",
              "      <td>1.139700</td>\n",
              "      <td>0.523320</td>\n",
              "      <td>...</td>\n",
              "      <td>0.053218</td>\n",
              "      <td>0.109840</td>\n",
              "      <td>0.950370</td>\n",
              "      <td>0.005675</td>\n",
              "      <td>9.039500e+00</td>\n",
              "      <td>6.198900</td>\n",
              "      <td>73.778500</td>\n",
              "      <td>4.930000</td>\n",
              "      <td>4.098300</td>\n",
              "      <td>0.000000</td>\n",
              "    </tr>\n",
              "    <tr>\n",
              "      <th>75%</th>\n",
              "      <td>0.117050</td>\n",
              "      <td>0.661635</td>\n",
              "      <td>0.418430</td>\n",
              "      <td>2.931000</td>\n",
              "      <td>4.876500e+01</td>\n",
              "      <td>0.108725</td>\n",
              "      <td>0.136905</td>\n",
              "      <td>2.771275</td>\n",
              "      <td>1.825900</td>\n",
              "      <td>0.720805</td>\n",
              "      <td>...</td>\n",
              "      <td>0.125085</td>\n",
              "      <td>0.242910</td>\n",
              "      <td>0.990405</td>\n",
              "      <td>0.205215</td>\n",
              "      <td>1.731950e+01</td>\n",
              "      <td>9.350900</td>\n",
              "      <td>118.720000</td>\n",
              "      <td>8.115800</td>\n",
              "      <td>9.204200</td>\n",
              "      <td>0.000000</td>\n",
              "    </tr>\n",
              "    <tr>\n",
              "      <th>max</th>\n",
              "      <td>87.459000</td>\n",
              "      <td>72.416000</td>\n",
              "      <td>28.336000</td>\n",
              "      <td>6845.800000</td>\n",
              "      <td>1.250100e+06</td>\n",
              "      <td>543.250000</td>\n",
              "      <td>5.530000</td>\n",
              "      <td>6868.500000</td>\n",
              "      <td>65.607000</td>\n",
              "      <td>339.850000</td>\n",
              "      <td>...</td>\n",
              "      <td>1.651000</td>\n",
              "      <td>87.981000</td>\n",
              "      <td>47.788000</td>\n",
              "      <td>308.150000</td>\n",
              "      <td>4.818700e+06</td>\n",
              "      <td>1308.500000</td>\n",
              "      <td>451380.000000</td>\n",
              "      <td>7641.300000</td>\n",
              "      <td>158180.000000</td>\n",
              "      <td>1.000000</td>\n",
              "    </tr>\n",
              "  </tbody>\n",
              "</table>\n",
              "<p>8 rows × 65 columns</p>\n",
              "</div>\n",
              "      <button class=\"colab-df-convert\" onclick=\"convertToInteractive('df-a7056ed5-ce75-4a2c-a853-ac9e865200d4')\"\n",
              "              title=\"Convert this dataframe to an interactive table.\"\n",
              "              style=\"display:none;\">\n",
              "        \n",
              "  <svg xmlns=\"http://www.w3.org/2000/svg\" height=\"24px\"viewBox=\"0 0 24 24\"\n",
              "       width=\"24px\">\n",
              "    <path d=\"M0 0h24v24H0V0z\" fill=\"none\"/>\n",
              "    <path d=\"M18.56 5.44l.94 2.06.94-2.06 2.06-.94-2.06-.94-.94-2.06-.94 2.06-2.06.94zm-11 1L8.5 8.5l.94-2.06 2.06-.94-2.06-.94L8.5 2.5l-.94 2.06-2.06.94zm10 10l.94 2.06.94-2.06 2.06-.94-2.06-.94-.94-2.06-.94 2.06-2.06.94z\"/><path d=\"M17.41 7.96l-1.37-1.37c-.4-.4-.92-.59-1.43-.59-.52 0-1.04.2-1.43.59L10.3 9.45l-7.72 7.72c-.78.78-.78 2.05 0 2.83L4 21.41c.39.39.9.59 1.41.59.51 0 1.02-.2 1.41-.59l7.78-7.78 2.81-2.81c.8-.78.8-2.07 0-2.86zM5.41 20L4 18.59l7.72-7.72 1.47 1.35L5.41 20z\"/>\n",
              "  </svg>\n",
              "      </button>\n",
              "      \n",
              "  <style>\n",
              "    .colab-df-container {\n",
              "      display:flex;\n",
              "      flex-wrap:wrap;\n",
              "      gap: 12px;\n",
              "    }\n",
              "\n",
              "    .colab-df-convert {\n",
              "      background-color: #E8F0FE;\n",
              "      border: none;\n",
              "      border-radius: 50%;\n",
              "      cursor: pointer;\n",
              "      display: none;\n",
              "      fill: #1967D2;\n",
              "      height: 32px;\n",
              "      padding: 0 0 0 0;\n",
              "      width: 32px;\n",
              "    }\n",
              "\n",
              "    .colab-df-convert:hover {\n",
              "      background-color: #E2EBFA;\n",
              "      box-shadow: 0px 1px 2px rgba(60, 64, 67, 0.3), 0px 1px 3px 1px rgba(60, 64, 67, 0.15);\n",
              "      fill: #174EA6;\n",
              "    }\n",
              "\n",
              "    [theme=dark] .colab-df-convert {\n",
              "      background-color: #3B4455;\n",
              "      fill: #D2E3FC;\n",
              "    }\n",
              "\n",
              "    [theme=dark] .colab-df-convert:hover {\n",
              "      background-color: #434B5C;\n",
              "      box-shadow: 0px 1px 3px 1px rgba(0, 0, 0, 0.15);\n",
              "      filter: drop-shadow(0px 1px 2px rgba(0, 0, 0, 0.3));\n",
              "      fill: #FFFFFF;\n",
              "    }\n",
              "  </style>\n",
              "\n",
              "      <script>\n",
              "        const buttonEl =\n",
              "          document.querySelector('#df-a7056ed5-ce75-4a2c-a853-ac9e865200d4 button.colab-df-convert');\n",
              "        buttonEl.style.display =\n",
              "          google.colab.kernel.accessAllowed ? 'block' : 'none';\n",
              "\n",
              "        async function convertToInteractive(key) {\n",
              "          const element = document.querySelector('#df-a7056ed5-ce75-4a2c-a853-ac9e865200d4');\n",
              "          const dataTable =\n",
              "            await google.colab.kernel.invokeFunction('convertToInteractive',\n",
              "                                                     [key], {});\n",
              "          if (!dataTable) return;\n",
              "\n",
              "          const docLinkHtml = 'Like what you see? Visit the ' +\n",
              "            '<a target=\"_blank\" href=https://colab.research.google.com/notebooks/data_table.ipynb>data table notebook</a>'\n",
              "            + ' to learn more about interactive tables.';\n",
              "          element.innerHTML = '';\n",
              "          dataTable['output_type'] = 'display_data';\n",
              "          await google.colab.output.renderOutput(dataTable, element);\n",
              "          const docLink = document.createElement('div');\n",
              "          docLink.innerHTML = docLinkHtml;\n",
              "          element.appendChild(docLink);\n",
              "        }\n",
              "      </script>\n",
              "    </div>\n",
              "  </div>\n",
              "  "
            ]
          },
          "metadata": {},
          "execution_count": 43
        }
      ]
    },
    {
      "cell_type": "markdown",
      "source": [
        "There are some missing values that needs to be handled."
      ],
      "metadata": {
        "id": "su4VpYYkC43-"
      }
    },
    {
      "cell_type": "markdown",
      "source": [
        "### Class Imbalance Plot"
      ],
      "metadata": {
        "id": "fMGyky_8DpX7"
      }
    },
    {
      "cell_type": "code",
      "source": [
        "df[\"target\"].value_counts(normalize = True).plot(\n",
        "    kind = \"bar\",\n",
        "    xlabel = \"Class\",\n",
        "    ylabel = \"Percentage\",\n",
        "    title = \"Class Imbalance Plot\"\n",
        ")"
      ],
      "metadata": {
        "colab": {
          "base_uri": "https://localhost:8080/",
          "height": 309
        },
        "id": "nVHFCMOornkX",
        "outputId": "b0cb9746-679c-499b-b5da-38ca01493092"
      },
      "execution_count": 8,
      "outputs": [
        {
          "output_type": "execute_result",
          "data": {
            "text/plain": [
              "<matplotlib.axes._subplots.AxesSubplot at 0x7f7468fb1110>"
            ]
          },
          "metadata": {},
          "execution_count": 8
        },
        {
          "output_type": "display_data",
          "data": {
            "text/plain": [
              "<Figure size 432x288 with 1 Axes>"
            ],
            "image/png": "[encoded data removed]"
          },
          "metadata": {
            "needs_background": "light"
          }
        }
      ]
    },
    {
      "cell_type": "markdown",
      "source": [
        "There are significant less bankrupt companies in the dataset than the companies that didnot go bankrupt. "
      ],
      "metadata": {
        "id": "WZz0L_0fr58l"
      }
    },
    {
      "cell_type": "markdown",
      "source": [
        "### Distribution of the features"
      ],
      "metadata": {
        "id": "um50GDCOsU7m"
      }
    },
    {
      "cell_type": "code",
      "source": [
        "df[\"Attr1\"].hist();"
      ],
      "metadata": {
        "colab": {
          "base_uri": "https://localhost:8080/",
          "height": 265
        },
        "id": "1QcXKhFbjIAT",
        "outputId": "aacd9e1a-c90f-452e-991a-d4906a7757d5"
      },
      "execution_count": 26,
      "outputs": [
        {
          "output_type": "display_data",
          "data": {
            "text/plain": [
              "<Figure size 432x288 with 1 Axes>"
            ],
            "image/png": "[encoded data removed]"
          },
          "metadata": {
            "needs_background": "light"
          }
        }
      ]
    },
    {
      "cell_type": "code",
      "source": [
        "q1, q3 = df[\"Attr1\"].quantile([0.1, 0.9])\n",
        "df[df[\"Attr1\"].between(q1, q3)][\"Attr1\"].hist();"
      ],
      "metadata": {
        "colab": {
          "base_uri": "https://localhost:8080/",
          "height": 265
        },
        "id": "xpd6gGfUhd6E",
        "outputId": "c8ebf0f8-27e9-4c2b-dfd4-bf3ad8338451"
      },
      "execution_count": 32,
      "outputs": [
        {
          "output_type": "display_data",
          "data": {
            "text/plain": [
              "<Figure size 432x288 with 1 Axes>"
            ],
            "image/png": "[encoded data removed]"
          },
          "metadata": {
            "needs_background": "light"
          }
        }
      ]
    },
    {
      "cell_type": "code",
      "source": [
        "q1, q3 = df[\"Attr3\"].quantile([0.1, 0.9])\n",
        "df[df[\"Attr3\"].between(q1, q3)][\"Attr3\"].hist();"
      ],
      "metadata": {
        "colab": {
          "base_uri": "https://localhost:8080/",
          "height": 265
        },
        "id": "hjuRlioyi7Yo",
        "outputId": "cdd0959b-11a9-4403-aa45-b1f4e2615c29"
      },
      "execution_count": 34,
      "outputs": [
        {
          "output_type": "display_data",
          "data": {
            "text/plain": [
              "<Figure size 432x288 with 1 Axes>"
            ],
            "image/png": "[encoded data removed]"
          },
          "metadata": {
            "needs_background": "light"
          }
        }
      ]
    },
    {
      "cell_type": "markdown",
      "source": [
        "# Split the Dataset"
      ],
      "metadata": {
        "id": "r_WTywX_i-4s"
      }
    },
    {
      "cell_type": "markdown",
      "source": [
        "### Packages"
      ],
      "metadata": {
        "id": "KfxwvGGjlFlQ"
      }
    },
    {
      "cell_type": "code",
      "source": [
        "from sklearn.model_selection import train_test_split"
      ],
      "metadata": {
        "id": "a0fd14hIkt0A"
      },
      "execution_count": 40,
      "outputs": []
    },
    {
      "cell_type": "markdown",
      "source": [
        "### Features and Target"
      ],
      "metadata": {
        "id": "Q2SpEESwlHgO"
      }
    },
    {
      "cell_type": "code",
      "source": [
        "target = \"target\"\n",
        "X = df.drop(columns = [target], axis = 1)\n",
        "y = df[target]"
      ],
      "metadata": {
        "id": "mtcHAu9QkK-v"
      },
      "execution_count": 38,
      "outputs": []
    },
    {
      "cell_type": "code",
      "source": [
        "X.shape, y.shape"
      ],
      "metadata": {
        "colab": {
          "base_uri": "https://localhost:8080/"
        },
        "id": "hyQg1mT6kjLn",
        "outputId": "f843b97c-0c21-45fb-e77b-7d691fa8fac5"
      },
      "execution_count": 39,
      "outputs": [
        {
          "output_type": "execute_result",
          "data": {
            "text/plain": [
              "((5910, 64), (5910,))"
            ]
          },
          "metadata": {},
          "execution_count": 39
        }
      ]
    },
    {
      "cell_type": "markdown",
      "source": [
        "### Train and test dataset"
      ],
      "metadata": {
        "id": "PvfnFMR8lE0c"
      }
    },
    {
      "cell_type": "code",
      "source": [
        "X_train, X_test, y_train, y_test = train_test_split(X, y, test_size = 0.2, random_state = 42)"
      ],
      "metadata": {
        "id": "fP-XQIagko05"
      },
      "execution_count": 41,
      "outputs": []
    },
    {
      "cell_type": "code",
      "source": [
        "print(f\"The shape of training dataset (X) is {X_train.shape}\")\n",
        "print(f\"The shape of training dataset (y) is {y_train.shape}\")\n",
        "\n",
        "print(f\"The shape of test dataset (X) is {X_test.shape}\")\n",
        "print(f\"The shape of test dataset (y) is {y_test.shape}\")"
      ],
      "metadata": {
        "colab": {
          "base_uri": "https://localhost:8080/"
        },
        "id": "Ken49KoIlP7Q",
        "outputId": "67697689-f63d-4791-db58-7387c46947c5"
      },
      "execution_count": 42,
      "outputs": [
        {
          "output_type": "stream",
          "name": "stdout",
          "text": [
            "The shape of training dataset (X) is (4728, 64)\n",
            "The shape of training dataset (y) is (4728,)\n",
            "The shape of test dataset (X) is (1182, 64)\n",
            "The shape of test dataset (y) is (1182,)\n"
          ]
        }
      ]
    },
    {
      "cell_type": "markdown",
      "source": [
        "# Sampling the Dataset"
      ],
      "metadata": {
        "id": "5BN2LDFbluTY"
      }
    },
    {
      "cell_type": "markdown",
      "source": [
        "# TODO: Oversampling or undersampling for making class balance"
      ],
      "metadata": {
        "id": "Yg5mUm7Al251"
      }
    },
    {
      "cell_type": "code",
      "source": [],
      "metadata": {
        "id": "WbOFz74pmVqz"
      },
      "execution_count": null,
      "outputs": []
    }
  ]
}