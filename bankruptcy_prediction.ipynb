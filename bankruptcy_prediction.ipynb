{
  "nbformat": 4,
  "nbformat_minor": 0,
  "metadata": {
    "colab": {
      "provenance": [],
      "authorship_tag": "ABX9TyOcYH3RqXv8CFwhh9o5ykBN",
      "include_colab_link": true
    },
    "kernelspec": {
      "name": "python3",
      "display_name": "Python 3"
    },
    "language_info": {
      "name": "python"
    }
  },
  "cells": [
    {
      "cell_type": "markdown",
      "metadata": {
        "id": "view-in-github",
        "colab_type": "text"
      },
      "source": [
        "<a href=\"https://colab.research.google.com/github/Bhandari007/bankruptcy_prediction/blob/main/bankruptcy_prediction.ipynb\" target=\"_parent\"><img src=\"https://colab.research.google.com/assets/colab-badge.svg\" alt=\"Open In Colab\"/></a>"
      ]
    },
    {
      "cell_type": "markdown",
      "source": [
        "# Bankruptcy Prediction\n",
        "\n",
        "This notebook, contains the machine learning application to predict whether a company will go bankrupt. The data is available in [UCI Machine Learning Repository](https://archive.ics.uci.edu/ml/datasets/Polish+companies+bankruptcy+data).\n",
        "The data was collected from Emerging Markets Information Service (EMIS, [Web Link]), which is a database containing information on emerging markets around the world. The bankrupt companies were analyzed in the period 2000-2012, while the still operating companies were evaluated from 2007 to 2013.\n",
        "\n",
        "This notebook deals with the 5<sup>th</sup> year of  forecasting period.\n",
        "\n",
        "### This notebook will be divided into the following sections:\n",
        "\n",
        "* Getting the Data\n",
        "* Data Cleaning\n",
        "* Data Exploration\n"
      ],
      "metadata": {
        "id": "u8GD3UZ4rHPC"
      }
    },
    {
      "cell_type": "markdown",
      "source": [
        "# Getting the Data"
      ],
      "metadata": {
        "id": "qB7FjfKqsgY8"
      }
    },
    {
      "cell_type": "markdown",
      "source": [
        "## Download data"
      ],
      "metadata": {
        "id": "6T0WvxCDskR2"
      }
    },
    {
      "cell_type": "code",
      "execution_count": 1,
      "metadata": {
        "colab": {
          "base_uri": "https://localhost:8080/"
        },
        "id": "9iOmIGkIo6rF",
        "outputId": "ae451d1c-d8e1-42a2-f211-d6a38629a250"
      },
      "outputs": [
        {
          "output_type": "stream",
          "name": "stdout",
          "text": [
            "--2022-11-11 12:22:54--  https://github.com/Bhandari007/bankruptcy_prediction/blob/main/data.zip?raw=true\n",
            "Resolving github.com (github.com)... 140.82.112.3\n",
            "Connecting to github.com (github.com)|140.82.112.3|:443... connected.\n",
            "HTTP request sent, awaiting response... 302 Found\n",
            "Location: https://github.com/Bhandari007/bankruptcy_prediction/raw/main/data.zip [following]\n",
            "--2022-11-11 12:22:54--  https://github.com/Bhandari007/bankruptcy_prediction/raw/main/data.zip\n",
            "Reusing existing connection to github.com:443.\n",
            "HTTP request sent, awaiting response... 302 Found\n",
            "Location: https://raw.githubusercontent.com/Bhandari007/bankruptcy_prediction/main/data.zip [following]\n",
            "--2022-11-11 12:22:54--  https://raw.githubusercontent.com/Bhandari007/bankruptcy_prediction/main/data.zip\n",
            "Resolving raw.githubusercontent.com (raw.githubusercontent.com)... 185.199.108.133, 185.199.111.133, 185.199.110.133, ...\n",
            "Connecting to raw.githubusercontent.com (raw.githubusercontent.com)|185.199.108.133|:443... connected.\n",
            "HTTP request sent, awaiting response... 200 OK\n",
            "Length: 8834471 (8.4M) [application/zip]\n",
            "Saving to: ‘data.zip?raw=true’\n",
            "\n",
            "data.zip?raw=true   100%[===================>]   8.42M  --.-KB/s    in 0.1s    \n",
            "\n",
            "2022-11-11 12:22:54 (74.8 MB/s) - ‘data.zip?raw=true’ saved [8834471/8834471]\n",
            "\n"
          ]
        }
      ],
      "source": [
        "!wget https://github.com/Bhandari007/bankruptcy_prediction/blob/main/data.zip?raw=true"
      ]
    },
    {
      "cell_type": "markdown",
      "source": [
        "## Extracting the ZipFile"
      ],
      "metadata": {
        "id": "VOrBA0dwsuRI"
      }
    },
    {
      "cell_type": "code",
      "source": [
        "import zipfile\n",
        "zip_ref = zipfile.ZipFile(\"data.zip?raw=true\")\n",
        "zip_ref.extractall()"
      ],
      "metadata": {
        "id": "IvViIvWupEJu"
      },
      "execution_count": 4,
      "outputs": []
    },
    {
      "cell_type": "markdown",
      "source": [
        "## Converting `arff` to `csv` file"
      ],
      "metadata": {
        "id": "BxmC5bn9sxTE"
      }
    },
    {
      "cell_type": "code",
      "source": [
        "from scipy.io.arff import loadarff\n",
        "import pandas as pd\n",
        "data = loadarff('5year.arff')\n",
        "df = pd.DataFrame(data[0])\n",
        "df.head()"
      ],
      "metadata": {
        "colab": {
          "base_uri": "https://localhost:8080/",
          "height": 279
        },
        "id": "wZEgdug6pQHQ",
        "outputId": "f4907da9-b367-42ca-fb6a-0e3a2043053f"
      },
      "execution_count": 14,
      "outputs": [
        {
          "output_type": "execute_result",
          "data": {
            "text/plain": [
              "      Attr1    Attr2    Attr3   Attr4     Attr5     Attr6     Attr7    Attr8  \\\n",
              "0  0.088238  0.55472  0.01134  1.0205  -66.5200  0.342040  0.109490  0.57752   \n",
              "1 -0.006202  0.48465  0.23298  1.5998    6.1825  0.000000 -0.006202  1.06340   \n",
              "2  0.130240  0.22142  0.57751  3.6082  120.0400  0.187640  0.162120  3.05900   \n",
              "3 -0.089951  0.88700  0.26927  1.5222  -55.9920 -0.073957 -0.089951  0.12740   \n",
              "4  0.048179  0.55041  0.10765  1.2437  -22.9590  0.000000  0.059280  0.81682   \n",
              "\n",
              "    Attr9   Attr10  ...    Attr56    Attr57   Attr58    Attr59   Attr60  \\\n",
              "0  1.0881  0.32036  ...  0.080955  0.275430  0.91905  0.002024   7.2711   \n",
              "1  1.2757  0.51535  ... -0.028591 -0.012035  1.00470  0.152220   6.0911   \n",
              "2  1.1415  0.67731  ...  0.123960  0.192290  0.87604  0.000000   8.7934   \n",
              "3  1.2754  0.11300  ...  0.418840 -0.796020  0.59074  2.878700   7.6524   \n",
              "4  1.5150  0.44959  ...  0.240400  0.107160  0.77048  0.139380  10.1180   \n",
              "\n",
              "   Attr61   Attr62  Attr63  Attr64  class  \n",
              "0  4.7343  142.760  2.5568  3.2597   b'0'  \n",
              "1  3.2749  111.140  3.2841  3.3700   b'0'  \n",
              "2  2.9870   71.531  5.1027  5.6188   b'0'  \n",
              "3  3.3302  147.560  2.4735  5.9299   b'0'  \n",
              "4  4.0950  106.430  3.4294  3.3622   b'0'  \n",
              "\n",
              "[5 rows x 65 columns]"
            ],
            "text/html": [
              "\n",
              "  <div id=\"df-c5ee63ee-72de-4f3c-82a6-d08afbda600f\">\n",
              "    <div class=\"colab-df-container\">\n",
              "      <div>\n",
              "<style scoped>\n",
              "    .dataframe tbody tr th:only-of-type {\n",
              "        vertical-align: middle;\n",
              "    }\n",
              "\n",
              "    .dataframe tbody tr th {\n",
              "        vertical-align: top;\n",
              "    }\n",
              "\n",
              "    .dataframe thead th {\n",
              "        text-align: right;\n",
              "    }\n",
              "</style>\n",
              "<table border=\"1\" class=\"dataframe\">\n",
              "  <thead>\n",
              "    <tr style=\"text-align: right;\">\n",
              "      <th></th>\n",
              "      <th>Attr1</th>\n",
              "      <th>Attr2</th>\n",
              "      <th>Attr3</th>\n",
              "      <th>Attr4</th>\n",
              "      <th>Attr5</th>\n",
              "      <th>Attr6</th>\n",
              "      <th>Attr7</th>\n",
              "      <th>Attr8</th>\n",
              "      <th>Attr9</th>\n",
              "      <th>Attr10</th>\n",
              "      <th>...</th>\n",
              "      <th>Attr56</th>\n",
              "      <th>Attr57</th>\n",
              "      <th>Attr58</th>\n",
              "      <th>Attr59</th>\n",
              "      <th>Attr60</th>\n",
              "      <th>Attr61</th>\n",
              "      <th>Attr62</th>\n",
              "      <th>Attr63</th>\n",
              "      <th>Attr64</th>\n",
              "      <th>class</th>\n",
              "    </tr>\n",
              "  </thead>\n",
              "  <tbody>\n",
              "    <tr>\n",
              "      <th>0</th>\n",
              "      <td>0.088238</td>\n",
              "      <td>0.55472</td>\n",
              "      <td>0.01134</td>\n",
              "      <td>1.0205</td>\n",
              "      <td>-66.5200</td>\n",
              "      <td>0.342040</td>\n",
              "      <td>0.109490</td>\n",
              "      <td>0.57752</td>\n",
              "      <td>1.0881</td>\n",
              "      <td>0.32036</td>\n",
              "      <td>...</td>\n",
              "      <td>0.080955</td>\n",
              "      <td>0.275430</td>\n",
              "      <td>0.91905</td>\n",
              "      <td>0.002024</td>\n",
              "      <td>7.2711</td>\n",
              "      <td>4.7343</td>\n",
              "      <td>142.760</td>\n",
              "      <td>2.5568</td>\n",
              "      <td>3.2597</td>\n",
              "      <td>b'0'</td>\n",
              "    </tr>\n",
              "    <tr>\n",
              "      <th>1</th>\n",
              "      <td>-0.006202</td>\n",
              "      <td>0.48465</td>\n",
              "      <td>0.23298</td>\n",
              "      <td>1.5998</td>\n",
              "      <td>6.1825</td>\n",
              "      <td>0.000000</td>\n",
              "      <td>-0.006202</td>\n",
              "      <td>1.06340</td>\n",
              "      <td>1.2757</td>\n",
              "      <td>0.51535</td>\n",
              "      <td>...</td>\n",
              "      <td>-0.028591</td>\n",
              "      <td>-0.012035</td>\n",
              "      <td>1.00470</td>\n",
              "      <td>0.152220</td>\n",
              "      <td>6.0911</td>\n",
              "      <td>3.2749</td>\n",
              "      <td>111.140</td>\n",
              "      <td>3.2841</td>\n",
              "      <td>3.3700</td>\n",
              "      <td>b'0'</td>\n",
              "    </tr>\n",
              "    <tr>\n",
              "      <th>2</th>\n",
              "      <td>0.130240</td>\n",
              "      <td>0.22142</td>\n",
              "      <td>0.57751</td>\n",
              "      <td>3.6082</td>\n",
              "      <td>120.0400</td>\n",
              "      <td>0.187640</td>\n",
              "      <td>0.162120</td>\n",
              "      <td>3.05900</td>\n",
              "      <td>1.1415</td>\n",
              "      <td>0.67731</td>\n",
              "      <td>...</td>\n",
              "      <td>0.123960</td>\n",
              "      <td>0.192290</td>\n",
              "      <td>0.87604</td>\n",
              "      <td>0.000000</td>\n",
              "      <td>8.7934</td>\n",
              "      <td>2.9870</td>\n",
              "      <td>71.531</td>\n",
              "      <td>5.1027</td>\n",
              "      <td>5.6188</td>\n",
              "      <td>b'0'</td>\n",
              "    </tr>\n",
              "    <tr>\n",
              "      <th>3</th>\n",
              "      <td>-0.089951</td>\n",
              "      <td>0.88700</td>\n",
              "      <td>0.26927</td>\n",
              "      <td>1.5222</td>\n",
              "      <td>-55.9920</td>\n",
              "      <td>-0.073957</td>\n",
              "      <td>-0.089951</td>\n",
              "      <td>0.12740</td>\n",
              "      <td>1.2754</td>\n",
              "      <td>0.11300</td>\n",
              "      <td>...</td>\n",
              "      <td>0.418840</td>\n",
              "      <td>-0.796020</td>\n",
              "      <td>0.59074</td>\n",
              "      <td>2.878700</td>\n",
              "      <td>7.6524</td>\n",
              "      <td>3.3302</td>\n",
              "      <td>147.560</td>\n",
              "      <td>2.4735</td>\n",
              "      <td>5.9299</td>\n",
              "      <td>b'0'</td>\n",
              "    </tr>\n",
              "    <tr>\n",
              "      <th>4</th>\n",
              "      <td>0.048179</td>\n",
              "      <td>0.55041</td>\n",
              "      <td>0.10765</td>\n",
              "      <td>1.2437</td>\n",
              "      <td>-22.9590</td>\n",
              "      <td>0.000000</td>\n",
              "      <td>0.059280</td>\n",
              "      <td>0.81682</td>\n",
              "      <td>1.5150</td>\n",
              "      <td>0.44959</td>\n",
              "      <td>...</td>\n",
              "      <td>0.240400</td>\n",
              "      <td>0.107160</td>\n",
              "      <td>0.77048</td>\n",
              "      <td>0.139380</td>\n",
              "      <td>10.1180</td>\n",
              "      <td>4.0950</td>\n",
              "      <td>106.430</td>\n",
              "      <td>3.4294</td>\n",
              "      <td>3.3622</td>\n",
              "      <td>b'0'</td>\n",
              "    </tr>\n",
              "  </tbody>\n",
              "</table>\n",
              "<p>5 rows × 65 columns</p>\n",
              "</div>\n",
              "      <button class=\"colab-df-convert\" onclick=\"convertToInteractive('df-c5ee63ee-72de-4f3c-82a6-d08afbda600f')\"\n",
              "              title=\"Convert this dataframe to an interactive table.\"\n",
              "              style=\"display:none;\">\n",
              "        \n",
              "  <svg xmlns=\"http://www.w3.org/2000/svg\" height=\"24px\"viewBox=\"0 0 24 24\"\n",
              "       width=\"24px\">\n",
              "    <path d=\"M0 0h24v24H0V0z\" fill=\"none\"/>\n",
              "    <path d=\"M18.56 5.44l.94 2.06.94-2.06 2.06-.94-2.06-.94-.94-2.06-.94 2.06-2.06.94zm-11 1L8.5 8.5l.94-2.06 2.06-.94-2.06-.94L8.5 2.5l-.94 2.06-2.06.94zm10 10l.94 2.06.94-2.06 2.06-.94-2.06-.94-.94-2.06-.94 2.06-2.06.94z\"/><path d=\"M17.41 7.96l-1.37-1.37c-.4-.4-.92-.59-1.43-.59-.52 0-1.04.2-1.43.59L10.3 9.45l-7.72 7.72c-.78.78-.78 2.05 0 2.83L4 21.41c.39.39.9.59 1.41.59.51 0 1.02-.2 1.41-.59l7.78-7.78 2.81-2.81c.8-.78.8-2.07 0-2.86zM5.41 20L4 18.59l7.72-7.72 1.47 1.35L5.41 20z\"/>\n",
              "  </svg>\n",
              "      </button>\n",
              "      \n",
              "  <style>\n",
              "    .colab-df-container {\n",
              "      display:flex;\n",
              "      flex-wrap:wrap;\n",
              "      gap: 12px;\n",
              "    }\n",
              "\n",
              "    .colab-df-convert {\n",
              "      background-color: #E8F0FE;\n",
              "      border: none;\n",
              "      border-radius: 50%;\n",
              "      cursor: pointer;\n",
              "      display: none;\n",
              "      fill: #1967D2;\n",
              "      height: 32px;\n",
              "      padding: 0 0 0 0;\n",
              "      width: 32px;\n",
              "    }\n",
              "\n",
              "    .colab-df-convert:hover {\n",
              "      background-color: #E2EBFA;\n",
              "      box-shadow: 0px 1px 2px rgba(60, 64, 67, 0.3), 0px 1px 3px 1px rgba(60, 64, 67, 0.15);\n",
              "      fill: #174EA6;\n",
              "    }\n",
              "\n",
              "    [theme=dark] .colab-df-convert {\n",
              "      background-color: #3B4455;\n",
              "      fill: #D2E3FC;\n",
              "    }\n",
              "\n",
              "    [theme=dark] .colab-df-convert:hover {\n",
              "      background-color: #434B5C;\n",
              "      box-shadow: 0px 1px 3px 1px rgba(0, 0, 0, 0.15);\n",
              "      filter: drop-shadow(0px 1px 2px rgba(0, 0, 0, 0.3));\n",
              "      fill: #FFFFFF;\n",
              "    }\n",
              "  </style>\n",
              "\n",
              "      <script>\n",
              "        const buttonEl =\n",
              "          document.querySelector('#df-c5ee63ee-72de-4f3c-82a6-d08afbda600f button.colab-df-convert');\n",
              "        buttonEl.style.display =\n",
              "          google.colab.kernel.accessAllowed ? 'block' : 'none';\n",
              "\n",
              "        async function convertToInteractive(key) {\n",
              "          const element = document.querySelector('#df-c5ee63ee-72de-4f3c-82a6-d08afbda600f');\n",
              "          const dataTable =\n",
              "            await google.colab.kernel.invokeFunction('convertToInteractive',\n",
              "                                                     [key], {});\n",
              "          if (!dataTable) return;\n",
              "\n",
              "          const docLinkHtml = 'Like what you see? Visit the ' +\n",
              "            '<a target=\"_blank\" href=https://colab.research.google.com/notebooks/data_table.ipynb>data table notebook</a>'\n",
              "            + ' to learn more about interactive tables.';\n",
              "          element.innerHTML = '';\n",
              "          dataTable['output_type'] = 'display_data';\n",
              "          await google.colab.output.renderOutput(dataTable, element);\n",
              "          const docLink = document.createElement('div');\n",
              "          docLink.innerHTML = docLinkHtml;\n",
              "          element.appendChild(docLink);\n",
              "        }\n",
              "      </script>\n",
              "    </div>\n",
              "  </div>\n",
              "  "
            ]
          },
          "metadata": {},
          "execution_count": 14
        }
      ]
    },
    {
      "cell_type": "markdown",
      "source": [
        "# Data Cleaning\n",
        "\n",
        "## TODO: Convert the class to 0 and 1"
      ],
      "metadata": {
        "id": "dB2VEwczqudn"
      }
    },
    {
      "cell_type": "code",
      "source": [],
      "metadata": {
        "id": "NKgwvR3Vqyky"
      },
      "execution_count": null,
      "outputs": []
    }
  ]
}